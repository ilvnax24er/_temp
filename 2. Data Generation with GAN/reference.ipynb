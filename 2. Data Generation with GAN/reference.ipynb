{
 "cells": [
  {
   "cell_type": "code",
   "execution_count": 2,
   "id": "floppy-disposal",
   "metadata": {},
   "outputs": [],
   "source": [
    "import pandas as pd\n",
    "import numpy as np\n",
    "import matplotlib.pyplot as plt\n",
    "import seaborn as sns\n",
    "\n",
    "from sklearn.preprocessing import MinMaxScaler, OneHotEncoder, LabelEncoder\n",
    "import scipy.stats\n",
    "import datetime as dt\n",
    "import pydot\n",
    "import warnings\n",
    "\n",
    "warnings.filterwarnings('ignore')"
   ]
  },
  {
   "cell_type": "code",
   "execution_count": 3,
   "id": "union-skill",
   "metadata": {},
   "outputs": [],
   "source": [
    "import tensorflow as tf\n",
    "from tensorflow.keras.layers import Input, Dense, Reshape, Flatten, Dropout, BatchNormalization, Embedding, LeakyReLU, concatenate\n",
    "from tensorflow.keras.models import Sequential, Model\n",
    "from tensorflow.keras.optimizers import Adam\n",
    "from tensorflow.keras.utils import to_categorical\n",
    "from tensorflow.keras.utils import plot_model"
   ]
  },
  {
   "cell_type": "code",
   "execution_count": 4,
   "id": "cooperative-century",
   "metadata": {},
   "outputs": [
    {
     "data": {
      "text/plain": [
       "location         object\n",
       "country          object\n",
       "gender           object\n",
       "age             float64\n",
       "vis_wuhan        object\n",
       "from_wuhan       object\n",
       "death             int64\n",
       "recov             int64\n",
       "symptom1         object\n",
       "symptom2         object\n",
       "symptom3         object\n",
       "symptom4         object\n",
       "symptom5         object\n",
       "symptom6         object\n",
       "diff_sym_hos      int64\n",
       "dtype: object"
      ]
     },
     "execution_count": 4,
     "metadata": {},
     "output_type": "execute_result"
    }
   ],
   "source": [
    "df = pd.read_csv('./Covid-19-Patient-Health-Analytics-master/cvd/data.csv')  \n",
    "df = df.drop('id',axis=1)  \n",
    "df = df.fillna(np.nan,axis=0)  \n",
    "df['age'] = df['age'].fillna(value=df['age'].mean())  \n",
    "\n",
    "df['sym_on'] = pd.to_datetime(df['sym_on'])  \n",
    "df['hosp_vis'] = pd.to_datetime(df['hosp_vis'])  \n",
    "df['sym_on']= df['sym_on'].map(dt.datetime.toordinal)  \n",
    "df['hosp_vis']= df['hosp_vis'].map(dt.datetime.toordinal)  \n",
    "df['diff_sym_hos']= df['hosp_vis'] - df['sym_on']  \n",
    "df=df.drop(['sym_on', 'hosp_vis'], axis=1)  \n",
    "df['location'] = df['location'].astype(str)  \n",
    "df['country'] = df['country'].astype(str)  \n",
    "df['gender'] = df['gender'].astype(str)  \n",
    "df['vis_wuhan'] = df['vis_wuhan'].astype(str)  \n",
    "df['from_wuhan'] = df['from_wuhan'].astype(str)  \n",
    "df['symptom1'] = df['symptom1'].astype(str)  \n",
    "df['symptom2'] = df['symptom2'].astype(str)  \n",
    "df['symptom3'] = df['symptom3'].astype(str)  \n",
    "df['symptom4'] = df['symptom4'].astype(str)  \n",
    "df['symptom5'] = df['symptom5'].astype(str)  \n",
    "df['symptom6'] = df['symptom6'].astype(str)  \n",
    "df.dtypes"
   ]
  },
  {
   "cell_type": "code",
   "execution_count": 14,
   "id": "geological-regular",
   "metadata": {},
   "outputs": [],
   "source": [
    "df_minority_data=df.loc[df['death'] == 1]  \n",
    " \n",
    "#Subsetting input features without target variable\n",
    "df_minority_data_withouttv=df_minority_data.loc[:, df_minority_data.columns != 'death']\n",
    "numerical_df = df_minority_data_withouttv.select_dtypes(\"number\")  \n",
    "categorical_df = df_minority_data_withouttv.select_dtypes(\"object\")  \n",
    "scaling = MinMaxScaler()  \n",
    "numerical_df_rescaled = scaling.fit_transform(numerical_df)  \n",
    "get_dummy_df = pd.get_dummies(categorical_df)    "
   ]
  },
  {
   "cell_type": "code",
   "execution_count": 22,
   "id": "enclosed-specialist",
   "metadata": {},
   "outputs": [
    {
     "data": {
      "text/html": [
       "<div>\n",
       "<style scoped>\n",
       "    .dataframe tbody tr th:only-of-type {\n",
       "        vertical-align: middle;\n",
       "    }\n",
       "\n",
       "    .dataframe tbody tr th {\n",
       "        vertical-align: top;\n",
       "    }\n",
       "\n",
       "    .dataframe thead th {\n",
       "        text-align: right;\n",
       "    }\n",
       "</style>\n",
       "<table border=\"1\" class=\"dataframe\">\n",
       "  <thead>\n",
       "    <tr style=\"text-align: right;\">\n",
       "      <th></th>\n",
       "      <th>age</th>\n",
       "      <th>recov</th>\n",
       "      <th>diff_sym_hos</th>\n",
       "    </tr>\n",
       "  </thead>\n",
       "  <tbody>\n",
       "    <tr>\n",
       "      <th>48</th>\n",
       "      <td>61.000000</td>\n",
       "      <td>0</td>\n",
       "      <td>7</td>\n",
       "    </tr>\n",
       "    <tr>\n",
       "      <th>49</th>\n",
       "      <td>69.000000</td>\n",
       "      <td>0</td>\n",
       "      <td>4</td>\n",
       "    </tr>\n",
       "    <tr>\n",
       "      <th>50</th>\n",
       "      <td>89.000000</td>\n",
       "      <td>0</td>\n",
       "      <td>0</td>\n",
       "    </tr>\n",
       "    <tr>\n",
       "      <th>51</th>\n",
       "      <td>89.000000</td>\n",
       "      <td>0</td>\n",
       "      <td>0</td>\n",
       "    </tr>\n",
       "    <tr>\n",
       "      <th>52</th>\n",
       "      <td>66.000000</td>\n",
       "      <td>0</td>\n",
       "      <td>6</td>\n",
       "    </tr>\n",
       "    <tr>\n",
       "      <th>...</th>\n",
       "      <td>...</td>\n",
       "      <td>...</td>\n",
       "      <td>...</td>\n",
       "    </tr>\n",
       "    <tr>\n",
       "      <th>992</th>\n",
       "      <td>44.000000</td>\n",
       "      <td>0</td>\n",
       "      <td>0</td>\n",
       "    </tr>\n",
       "    <tr>\n",
       "      <th>1033</th>\n",
       "      <td>49.483689</td>\n",
       "      <td>0</td>\n",
       "      <td>0</td>\n",
       "    </tr>\n",
       "    <tr>\n",
       "      <th>1034</th>\n",
       "      <td>49.483689</td>\n",
       "      <td>0</td>\n",
       "      <td>0</td>\n",
       "    </tr>\n",
       "    <tr>\n",
       "      <th>1035</th>\n",
       "      <td>49.483689</td>\n",
       "      <td>0</td>\n",
       "      <td>0</td>\n",
       "    </tr>\n",
       "    <tr>\n",
       "      <th>1036</th>\n",
       "      <td>49.483689</td>\n",
       "      <td>0</td>\n",
       "      <td>0</td>\n",
       "    </tr>\n",
       "  </tbody>\n",
       "</table>\n",
       "<p>63 rows × 3 columns</p>\n",
       "</div>"
      ],
      "text/plain": [
       "            age  recov  diff_sym_hos\n",
       "48    61.000000      0             7\n",
       "49    69.000000      0             4\n",
       "50    89.000000      0             0\n",
       "51    89.000000      0             0\n",
       "52    66.000000      0             6\n",
       "...         ...    ...           ...\n",
       "992   44.000000      0             0\n",
       "1033  49.483689      0             0\n",
       "1034  49.483689      0             0\n",
       "1035  49.483689      0             0\n",
       "1036  49.483689      0             0\n",
       "\n",
       "[63 rows x 3 columns]"
      ]
     },
     "execution_count": 22,
     "metadata": {},
     "output_type": "execute_result"
    }
   ],
   "source": [
    "numerical_df"
   ]
  },
  {
   "cell_type": "code",
   "execution_count": 36,
   "id": "classical-resort",
   "metadata": {},
   "outputs": [
    {
     "name": "stdout",
     "output_type": "stream",
     "text": [
      "Model: \"functional_21\"\n",
      "_________________________________________________________________\n",
      "Layer (type)                 Output Shape              Param #   \n",
      "=================================================================\n",
      "input_9 (InputLayer)         [(None, 100)]             0         \n",
      "_________________________________________________________________\n",
      "dense_46 (Dense)             (None, 8)                 808       \n",
      "_________________________________________________________________\n",
      "leaky_re_lu_35 (LeakyReLU)   (None, 8)                 0         \n",
      "_________________________________________________________________\n",
      "batch_normalization_28 (Batc (None, 8)                 32        \n",
      "_________________________________________________________________\n",
      "dense_47 (Dense)             (None, 16)                144       \n",
      "_________________________________________________________________\n",
      "leaky_re_lu_36 (LeakyReLU)   (None, 16)                0         \n",
      "_________________________________________________________________\n",
      "batch_normalization_29 (Batc (None, 16)                64        \n",
      "_________________________________________________________________\n",
      "dense_48 (Dense)             (None, 64)                1088      \n",
      "_________________________________________________________________\n",
      "leaky_re_lu_37 (LeakyReLU)   (None, 64)                0         \n",
      "_________________________________________________________________\n",
      "batch_normalization_30 (Batc (None, 64)                256       \n",
      "_________________________________________________________________\n",
      "dense_49 (Dense)             (None, 128)               8320      \n",
      "_________________________________________________________________\n",
      "leaky_re_lu_38 (LeakyReLU)   (None, 128)               0         \n",
      "_________________________________________________________________\n",
      "batch_normalization_31 (Batc (None, 128)               512       \n",
      "_________________________________________________________________\n",
      "dense_50 (Dense)             (None, 3)                 387       \n",
      "=================================================================\n",
      "Total params: 11,611\n",
      "Trainable params: 11,179\n",
      "Non-trainable params: 432\n",
      "_________________________________________________________________\n"
     ]
    }
   ],
   "source": [
    "def define_generator (numerical):    \n",
    "  #Inputting noise  from latent space\n",
    "    noise = Input(shape = (100,))\n",
    "    hidden_1 = Dense(8, kernel_initializer = \"he_uniform\")(noise)    \n",
    "    hidden_1 = LeakyReLU(0.2)(hidden_1)    \n",
    "    hidden_1 = BatchNormalization(momentum = 0.8)(hidden_1) \n",
    "    hidden_2 = Dense(16, kernel_initializer = \"he_uniform\")(hidden_1)    \n",
    "    hidden_2 = LeakyReLU(0.2)(hidden_2)    \n",
    "    hidden_2 = BatchNormalization(momentum = 0.8)(hidden_2)    \n",
    "\n",
    "    #Branch 12 for generating numerical data \n",
    "    branch_12 = Dense(64, kernel_initializer = \"he_uniform\")(hidden_2)    \n",
    "    branch_12 = LeakyReLU(0.2)(branch_12)    \n",
    "    branch_12 = BatchNormalization(momentum=0.8)(branch_12)    \n",
    "    branch_12 = Dense(128, kernel_initializer = \"he_uniform\")(branch_12)    \n",
    "    branch_12 = LeakyReLU(0.2)(branch_12)    \n",
    "    branch_12 = BatchNormalization(momentum=0.8)(branch_12)    \n",
    "    \n",
    "    #Output Layer12 \n",
    "    branch_12_output = Dense(numerical, activation = \"sigmoid\")(branch_12)    \n",
    "\n",
    "    return Model(inputs = noise, outputs = branch_12_output)    \n",
    "\n",
    "    \n",
    "generator = define_generator(numerical_df_rescaled.shape[1])  \n",
    "generator.summary()"
   ]
  },
  {
   "cell_type": "code",
   "execution_count": 37,
   "id": "chief-transaction",
   "metadata": {},
   "outputs": [
    {
     "name": "stdout",
     "output_type": "stream",
     "text": [
      "Model: \"functional_23\"\n",
      "_________________________________________________________________\n",
      "Layer (type)                 Output Shape              Param #   \n",
      "=================================================================\n",
      "input_10 (InputLayer)        [(None, 3)]               0         \n",
      "_________________________________________________________________\n",
      "dense_51 (Dense)             (None, 128)               512       \n",
      "_________________________________________________________________\n",
      "leaky_re_lu_39 (LeakyReLU)   (None, 128)               0         \n",
      "_________________________________________________________________\n",
      "dense_52 (Dense)             (None, 64)                8256      \n",
      "_________________________________________________________________\n",
      "leaky_re_lu_40 (LeakyReLU)   (None, 64)                0         \n",
      "_________________________________________________________________\n",
      "dense_53 (Dense)             (None, 32)                2080      \n",
      "_________________________________________________________________\n",
      "leaky_re_lu_41 (LeakyReLU)   (None, 32)                0         \n",
      "_________________________________________________________________\n",
      "dense_54 (Dense)             (None, 16)                528       \n",
      "_________________________________________________________________\n",
      "leaky_re_lu_42 (LeakyReLU)   (None, 16)                0         \n",
      "_________________________________________________________________\n",
      "dense_55 (Dense)             (None, 8)                 136       \n",
      "_________________________________________________________________\n",
      "leaky_re_lu_43 (LeakyReLU)   (None, 8)                 0         \n",
      "_________________________________________________________________\n",
      "dense_56 (Dense)             (None, 1)                 9         \n",
      "=================================================================\n",
      "Total params: 11,521\n",
      "Trainable params: 11,521\n",
      "Non-trainable params: 0\n",
      "_________________________________________________________________\n"
     ]
    }
   ],
   "source": [
    "def define_discriminator(inputs_n):  \n",
    "    #Input from generator\n",
    "    d_input = Input(shape = (inputs_n,))    \n",
    "    d = Dense(128, kernel_initializer=\"he_uniform\")(d_input)  \n",
    "    d = LeakyReLU(0.2)(d)  \n",
    "    d = Dense(64, kernel_initializer=\"he_uniform\")(d)  \n",
    "    d = LeakyReLU(0.2)(d)  \n",
    "    d = Dense(32, kernel_initializer=\"he_uniform\")(d)  \n",
    "    d = LeakyReLU(0.2)(d)  \n",
    "    d = Dense(16, kernel_initializer=\"he_uniform\")(d)  \n",
    "    d = LeakyReLU(0.2)(d)  \n",
    "    d = Dense(8, kernel_initializer=\"he_uniform\")(d)  \n",
    "    d = LeakyReLU(0.2)(d)  \n",
    "\n",
    "    #Output Layer\n",
    "    d_output = Dense(1, activation = \"sigmoid\")(d)  \n",
    "\n",
    "    #compile and return model\n",
    "    model = Model(inputs = d_input, outputs = d_output)  \n",
    "    model.compile(loss = \"binary_crossentropy\", optimizer = Adam(lr=0.0002, beta_1=0.5), metrics = [\"accuracy\"])  \n",
    "    return model  \n",
    "\n",
    "\n",
    "inputs_n = numerical_df_rescaled.shape[1]  \n",
    "discriminator = define_discriminator(inputs_n)  \n",
    "discriminator.summary()"
   ]
  },
  {
   "cell_type": "code",
   "execution_count": 38,
   "id": "delayed-alias",
   "metadata": {},
   "outputs": [
    {
     "name": "stdout",
     "output_type": "stream",
     "text": [
      "Epoch: 200 [Discriminator loss: 0.445778] [Generator loss: 2.240804]\n",
      "Epoch: 400 [Discriminator loss: 0.554541] [Generator loss: 1.940216]\n",
      "Epoch: 600 [Discriminator loss: 0.599610] [Generator loss: 2.153656]\n",
      "Epoch: 800 [Discriminator loss: 0.565635] [Generator loss: 1.706133]\n",
      "Epoch: 1000 [Discriminator loss: 0.642727] [Generator loss: 1.274258]\n",
      "Epoch: 1200 [Discriminator loss: 0.696572] [Generator loss: 0.744617]\n",
      "Epoch: 1400 [Discriminator loss: 0.695755] [Generator loss: 0.727811]\n",
      "Epoch: 1600 [Discriminator loss: 0.689040] [Generator loss: 0.706729]\n",
      "Epoch: 1800 [Discriminator loss: 0.697798] [Generator loss: 0.747115]\n",
      "Epoch: 2000 [Discriminator loss: 0.706919] [Generator loss: 0.739917]\n",
      "Epoch: 2200 [Discriminator loss: 0.682399] [Generator loss: 0.771667]\n",
      "Epoch: 2400 [Discriminator loss: 0.694915] [Generator loss: 0.738998]\n",
      "Epoch: 2600 [Discriminator loss: 0.689310] [Generator loss: 0.774810]\n",
      "Epoch: 2800 [Discriminator loss: 0.706362] [Generator loss: 0.725693]\n",
      "Epoch: 3000 [Discriminator loss: 0.699463] [Generator loss: 0.743055]\n",
      "Epoch: 3200 [Discriminator loss: 0.699508] [Generator loss: 0.734916]\n",
      "Epoch: 3400 [Discriminator loss: 0.698849] [Generator loss: 0.735124]\n",
      "Epoch: 3600 [Discriminator loss: 0.698380] [Generator loss: 0.731577]\n",
      "Epoch: 3800 [Discriminator loss: 0.704949] [Generator loss: 0.747797]\n",
      "Epoch: 4000 [Discriminator loss: 0.692149] [Generator loss: 0.728132]\n",
      "Epoch: 4200 [Discriminator loss: 0.698150] [Generator loss: 0.725235]\n",
      "Epoch: 4400 [Discriminator loss: 0.703267] [Generator loss: 0.726634]\n",
      "Epoch: 4600 [Discriminator loss: 0.693191] [Generator loss: 0.743414]\n",
      "Epoch: 4800 [Discriminator loss: 0.705222] [Generator loss: 0.740859]\n",
      "Epoch: 5000 [Discriminator loss: 0.704993] [Generator loss: 0.715317]\n",
      "Epoch: 5200 [Discriminator loss: 0.695742] [Generator loss: 0.735443]\n",
      "Epoch: 5400 [Discriminator loss: 0.695671] [Generator loss: 0.732083]\n",
      "Epoch: 5600 [Discriminator loss: 0.691941] [Generator loss: 0.758037]\n",
      "Epoch: 5800 [Discriminator loss: 0.690821] [Generator loss: 0.730132]\n",
      "Epoch: 6000 [Discriminator loss: 0.690471] [Generator loss: 0.737511]\n",
      "Epoch: 6200 [Discriminator loss: 0.693558] [Generator loss: 0.732908]\n",
      "Epoch: 6400 [Discriminator loss: 0.698944] [Generator loss: 0.729740]\n",
      "Epoch: 6600 [Discriminator loss: 0.694084] [Generator loss: 0.693935]\n",
      "Epoch: 6800 [Discriminator loss: 0.718468] [Generator loss: 0.743361]\n",
      "Epoch: 7000 [Discriminator loss: 0.688695] [Generator loss: 0.726802]\n"
     ]
    },
    {
     "data": {
      "image/png": "[encoded data removed]",
      "text/plain": [
       "<Figure size 1440x720 with 1 Axes>"
      ]
     },
     "metadata": {
      "needs_background": "light"
     },
     "output_type": "display_data"
    }
   ],
   "source": [
    "def define_complete_gan(generator, discriminator):  \n",
    "    discriminator.trainable = False  \n",
    "    gan_output = discriminator(generator.output)  \n",
    "    \n",
    "    #Initialize gan\n",
    "    model = Model(inputs = generator.input, outputs = gan_output)  \n",
    "\n",
    "    #Model Compilation\n",
    "    model.compile(loss = \"binary_crossentropy\", optimizer = Adam(lr=0.0002, beta_1=0.5))  \n",
    "    return model  \n",
    "\n",
    "completegan = define_complete_gan(generator, discriminator)  \n",
    "\n",
    "def gan_train(gan, generator, discriminator, numerical, latent_dim, n_epochs, n_batch, n_eval):  \n",
    "    #Upddte Discriminator with half batch size\n",
    "    half_batch = int(n_batch / 2)  \n",
    "    discriminator_loss = []  \n",
    "    generator_loss = []  \n",
    "    #generate class labels for fake and real\n",
    "    valid = np.ones((half_batch, 1))  \n",
    "    y_gan = np.ones((n_batch, 1))  \n",
    "    fake = np.zeros((half_batch, 1))  \n",
    "\n",
    "    #training\n",
    "    for i in range(n_epochs):  \n",
    "        #select random batch from real categorical and numerical data\n",
    "        idx = np.random.randint(0, numerical.shape[0], half_batch)\n",
    "        numerical_real = numerical_df_rescaled[idx]  \n",
    "\n",
    "        #concatenate categorical and numerical data for the discriminator\n",
    "        real_data = numerical_real\n",
    "  \n",
    "        #generate fake samples from the noise\n",
    "        noise = np.random.normal(0, 1, (half_batch, latent_dim))  \n",
    "        fake_data = generator.predict(noise)  \n",
    "     \n",
    "        #train the discriminator and return losses and acc\n",
    "        d_loss_real, da_real = discriminator.train_on_batch(real_data, valid)  \n",
    "        d_loss_fake, da_fake = discriminator.train_on_batch(fake_data, fake)  \n",
    "        d_loss = 0.5 * np.add(d_loss_real, d_loss_fake)  \n",
    "        discriminator_loss.append(d_loss)  \n",
    "       \n",
    "        #generate noise for generator input and train the generator (to have the discriminator label samples as valid)\n",
    "        noise = np.random.normal(0, 1, (n_batch, latent_dim))  \n",
    "        g_loss = gan.train_on_batch(noise, y_gan)  \n",
    "        generator_loss.append(g_loss)  \n",
    "\n",
    "        #evaluate progress\n",
    "        if (i+1) % n_eval == 0:  \n",
    "            print (\"Epoch: %d [Discriminator loss: %f] [Generator loss: %f]\" % (i + 1, d_loss, g_loss))  \n",
    "            \n",
    "    plt.figure(figsize = (20, 10))  \n",
    "    plt.plot(generator_loss, label = \"Generator loss\")  \n",
    "    plt.plot(discriminator_loss, label = \"Discriminator loss\")     \n",
    "    plt.title(\"Stats from training GAN\")  \n",
    "    plt.grid()  \n",
    "    plt.legend()  \n",
    "\n",
    "latent_dim = 100  \n",
    "gan_train(completegan, generator, discriminator, numerical_df_rescaled, latent_dim, n_epochs = 7000, n_batch = 63, n_eval = 200)"
   ]
  },
  {
   "cell_type": "code",
   "execution_count": 51,
   "id": "magnetic-spider",
   "metadata": {},
   "outputs": [],
   "source": [
    "noise = np.random.normal(0, 1, (96, 100))  \n",
    "generated_mixed_data = generator.predict(noise)  "
   ]
  },
  {
   "cell_type": "code",
   "execution_count": 53,
   "id": "subsequent-intermediate",
   "metadata": {},
   "outputs": [],
   "source": [
    "original_data = numerical_df"
   ]
  },
  {
   "cell_type": "code",
   "execution_count": 97,
   "id": "saved-mobile",
   "metadata": {},
   "outputs": [
    {
     "data": {
      "text/plain": [
       "<AxesSubplot:>"
      ]
     },
     "execution_count": 97,
     "metadata": {},
     "output_type": "execute_result"
    },
    {
     "data": {
      "image/png": "[encoded data removed]",
      "text/plain": [
       "<Figure size 432x288 with 1 Axes>"
      ]
     },
     "metadata": {
      "needs_background": "light"
     },
     "output_type": "display_data"
    }
   ],
   "source": [
    "original_data['age'].hist()"
   ]
  },
  {
   "cell_type": "code",
   "execution_count": 95,
   "id": "annual-phone",
   "metadata": {},
   "outputs": [
    {
     "data": {
      "image/png": "[encoded data removed]",
      "text/plain": [
       "<Figure size 432x288 with 1 Axes>"
      ]
     },
     "metadata": {
      "needs_background": "light"
     },
     "output_type": "display_data"
    }
   ],
   "source": [
    "plt.hist(original_data['age'], density=True)\n",
    "plt.show()"
   ]
  },
  {
   "cell_type": "code",
   "execution_count": 59,
   "id": "patient-concern",
   "metadata": {},
   "outputs": [],
   "source": [
    "gen_df = pd.DataFrame(generated_mixed_data)"
   ]
  },
  {
   "cell_type": "code",
   "execution_count": 64,
   "id": "advised-steam",
   "metadata": {},
   "outputs": [
    {
     "data": {
      "text/plain": [
       "<AxesSubplot:>"
      ]
     },
     "execution_count": 64,
     "metadata": {},
     "output_type": "execute_result"
    },
    {
     "data": {
      "image/png": "[encoded data removed]",
      "text/plain": [
       "<Figure size 432x288 with 1 Axes>"
      ]
     },
     "metadata": {
      "needs_background": "light"
     },
     "output_type": "display_data"
    }
   ],
   "source": [
    "gen_df[0].hist()"
   ]
  },
  {
   "cell_type": "code",
   "execution_count": 98,
   "id": "banner-leadership",
   "metadata": {},
   "outputs": [],
   "source": [
    "import seaborn as sns"
   ]
  },
  {
   "cell_type": "code",
   "execution_count": 101,
   "id": "technical-suspect",
   "metadata": {},
   "outputs": [
    {
     "data": {
      "text/plain": [
       "<AxesSubplot:xlabel='0', ylabel='Density'>"
      ]
     },
     "execution_count": 101,
     "metadata": {},
     "output_type": "execute_result"
    },
    {
     "data": {
      "image/png": "[encoded data removed]",
      "text/plain": [
       "<Figure size 432x288 with 1 Axes>"
      ]
     },
     "metadata": {
      "needs_background": "light"
     },
     "output_type": "display_data"
    }
   ],
   "source": [
    "sns.distplot(gen_df[0])"
   ]
  },
  {
   "cell_type": "code",
   "execution_count": 102,
   "id": "rising-battle",
   "metadata": {},
   "outputs": [
    {
     "data": {
      "text/plain": [
       "<AxesSubplot:xlabel='age', ylabel='Density'>"
      ]
     },
     "execution_count": 102,
     "metadata": {},
     "output_type": "execute_result"
    },
    {
     "data": {
      "image/png": "[encoded data removed]",
      "text/plain": [
       "<Figure size 432x288 with 1 Axes>"
      ]
     },
     "metadata": {
      "needs_background": "light"
     },
     "output_type": "display_data"
    }
   ],
   "source": [
    "sns.distplot(original_data['age'])"
   ]
  },
  {
   "cell_type": "code",
   "execution_count": null,
   "id": "previous-texas",
   "metadata": {},
   "outputs": [],
   "source": []
  }
 ],
 "metadata": {
  "kernelspec": {
   "display_name": "Python 3",
   "language": "python",
   "name": "python3"
  },
  "language_info": {
   "codemirror_mode": {
    "name": "ipython",
    "version": 3
   },
   "file_extension": ".py",
   "mimetype": "text/x-python",
   "name": "python",
   "nbconvert_exporter": "python",
   "pygments_lexer": "ipython3",
   "version": "3.7.9"
  }
 },
 "nbformat": 4,
 "nbformat_minor": 5
}
